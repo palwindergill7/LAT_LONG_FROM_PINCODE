{
 "cells": [
  {
   "cell_type": "code",
   "execution_count": 71,
   "id": "6402e533",
   "metadata": {},
   "outputs": [],
   "source": [
    "import requests\n",
    "import json\n",
    "import pandas as pd\n",
    "import numpy as np\n",
    "import geopy as gd\n",
    "from geopy.distance import geodesic\n",
    "PinData_file= pd.read_excel('Locality_Pincode.xlsx')"
   ]
  },
  {
   "cell_type": "code",
   "execution_count": 78,
   "id": "af61eedb",
   "metadata": {},
   "outputs": [
    {
     "name": "stdout",
     "output_type": "stream",
     "text": [
      " Enter the Pincodes here: 146110\n"
     ]
    }
   ],
   "source": [
    "pinlist= int(input(' Enter the Pincodes here: '))"
   ]
  },
  {
   "cell_type": "code",
   "execution_count": 79,
   "id": "986c89fd",
   "metadata": {},
   "outputs": [
    {
     "data": {
      "text/plain": [
       "HOSHIARPUR    22\n",
       "Name: Districtname, dtype: int64"
      ]
     },
     "execution_count": 79,
     "metadata": {},
     "output_type": "execute_result"
    }
   ],
   "source": [
    "PinData=PinData_file[ PinData_file['Pincode']==pinlist]\n",
    "PinData['Districtname'].value_counts()"
   ]
  },
  {
   "cell_type": "code",
   "execution_count": 80,
   "id": "1e6e3299",
   "metadata": {},
   "outputs": [],
   "source": [
    "from geopy.geocoders import Nominatim\n",
    "geolocator = Nominatim(user_agent=\"MyApp\")\n",
    "place_li = []\n",
    "place_l = []\n",
    "district_l= []\n",
    "lat_l = []\n",
    "long_l= []\n",
    "place_list = list(PinData['Locality'])\n",
    "district_list= list(PinData['Districtname'])\n",
    "for i in range(0,len(place_list)):\n",
    "    url= place_list[i]+\" \"+district_list[i]\n",
    "    location = geolocator.geocode(url)\n",
    "    try:\n",
    "        \n",
    "        address = location[0].split(',')\n",
    "        place_li.append(place_list[i])\n",
    "        place_l.append(address[0])\n",
    "        district_l.append(address[2])\n",
    "        lat_l.append(location.latitude)\n",
    "        long_l.append(location.longitude)\n",
    "    except:\n",
    "        continue\n",
    "               "
   ]
  },
  {
   "cell_type": "code",
   "execution_count": 81,
   "id": "84fb6f31",
   "metadata": {},
   "outputs": [
    {
     "data": {
      "text/plain": [
       "5"
      ]
     },
     "execution_count": 81,
     "metadata": {},
     "output_type": "execute_result"
    }
   ],
   "source": [
    "place_cord= pd.DataFrame()\n",
    "place_cord['Locality']=place_li\n",
    "\n",
    "place_cord['Place']=place_l\n",
    "place_cord['District']=district_l\n",
    "place_cord['Latitude']=lat_l\n",
    "place_cord['Longitude']=long_l\n",
    "\n",
    "len(place_cord['Latitude'])"
   ]
  },
  {
   "cell_type": "code",
   "execution_count": 82,
   "id": "7073af44",
   "metadata": {},
   "outputs": [
    {
     "name": "stderr",
     "output_type": "stream",
     "text": [
      "C:\\anaconda\\lib\\site-packages\\sklearn\\cluster\\_kmeans.py:1382: UserWarning: KMeans is known to have a memory leak on Windows with MKL, when there are less chunks than available threads. You can avoid it by setting the environment variable OMP_NUM_THREADS=1.\n",
      "  warnings.warn(\n"
     ]
    },
    {
     "data": {
      "text/plain": [
       "array([0, 0, 1, 0, 0])"
      ]
     },
     "execution_count": 82,
     "metadata": {},
     "output_type": "execute_result"
    }
   ],
   "source": [
    "import seaborn as ss\n",
    "import matplotlib.pyplot as plt\n",
    "import numpy as nn\n",
    "from sklearn.cluster import KMeans\n",
    "x= place_cord.iloc[:,[3,4]].values\n",
    "kmeans = KMeans(n_clusters = 2, init = 'k-means++',max_iter = 300, n_init = 2, random_state = 0)\n",
    "y_kmeans = kmeans.fit_predict(x)\n",
    "y_kmeans"
   ]
  },
  {
   "cell_type": "code",
   "execution_count": 83,
   "id": "501974f6",
   "metadata": {},
   "outputs": [],
   "source": [
    "c1=kmeans.cluster_centers_[0]\n",
    "c2=kmeans.cluster_centers_[1]"
   ]
  },
  {
   "cell_type": "code",
   "execution_count": 84,
   "id": "442d65d5",
   "metadata": {},
   "outputs": [
    {
     "data": {
      "text/html": [
       "<div>\n",
       "<style scoped>\n",
       "    .dataframe tbody tr th:only-of-type {\n",
       "        vertical-align: middle;\n",
       "    }\n",
       "\n",
       "    .dataframe tbody tr th {\n",
       "        vertical-align: top;\n",
       "    }\n",
       "\n",
       "    .dataframe thead th {\n",
       "        text-align: right;\n",
       "    }\n",
       "</style>\n",
       "<table border=\"1\" class=\"dataframe\">\n",
       "  <thead>\n",
       "    <tr style=\"text-align: right;\">\n",
       "      <th></th>\n",
       "      <th>Locality</th>\n",
       "      <th>Place</th>\n",
       "      <th>District</th>\n",
       "      <th>Latitude</th>\n",
       "      <th>Longitude</th>\n",
       "      <th>Cluster</th>\n",
       "    </tr>\n",
       "  </thead>\n",
       "  <tbody>\n",
       "    <tr>\n",
       "      <th>0</th>\n",
       "      <td>Kharkan</td>\n",
       "      <td>SubCentre</td>\n",
       "      <td>NH503A</td>\n",
       "      <td>31.508472</td>\n",
       "      <td>76.052545</td>\n",
       "      <td>0</td>\n",
       "    </tr>\n",
       "    <tr>\n",
       "      <th>1</th>\n",
       "      <td>Mehlanwali</td>\n",
       "      <td>Primary Health Centre</td>\n",
       "      <td>NH503A</td>\n",
       "      <td>31.510126</td>\n",
       "      <td>75.992210</td>\n",
       "      <td>0</td>\n",
       "    </tr>\n",
       "    <tr>\n",
       "      <th>3</th>\n",
       "      <td>Mehlanwali</td>\n",
       "      <td>Primary Health Centre</td>\n",
       "      <td>NH503A</td>\n",
       "      <td>31.510126</td>\n",
       "      <td>75.992210</td>\n",
       "      <td>0</td>\n",
       "    </tr>\n",
       "    <tr>\n",
       "      <th>4</th>\n",
       "      <td>Kharkan</td>\n",
       "      <td>SubCentre</td>\n",
       "      <td>NH503A</td>\n",
       "      <td>31.508472</td>\n",
       "      <td>76.052545</td>\n",
       "      <td>0</td>\n",
       "    </tr>\n",
       "  </tbody>\n",
       "</table>\n",
       "</div>"
      ],
      "text/plain": [
       "     Locality                  Place District   Latitude  Longitude  Cluster\n",
       "0     Kharkan              SubCentre   NH503A  31.508472  76.052545        0\n",
       "1  Mehlanwali  Primary Health Centre   NH503A  31.510126  75.992210        0\n",
       "3  Mehlanwali  Primary Health Centre   NH503A  31.510126  75.992210        0\n",
       "4     Kharkan              SubCentre   NH503A  31.508472  76.052545        0"
      ]
     },
     "execution_count": 84,
     "metadata": {},
     "output_type": "execute_result"
    }
   ],
   "source": [
    "place_cord['Cluster']=y_kmeans\n",
    "place_cord_clus =place_cord[ place_cord['Cluster']==0]\n",
    "place_cord_clus"
   ]
  },
  {
   "cell_type": "code",
   "execution_count": 85,
   "id": "fe267f5d",
   "metadata": {},
   "outputs": [
    {
     "data": {
      "text/html": [
       "<div>\n",
       "<style scoped>\n",
       "    .dataframe tbody tr th:only-of-type {\n",
       "        vertical-align: middle;\n",
       "    }\n",
       "\n",
       "    .dataframe tbody tr th {\n",
       "        vertical-align: top;\n",
       "    }\n",
       "\n",
       "    .dataframe thead th {\n",
       "        text-align: right;\n",
       "    }\n",
       "</style>\n",
       "<table border=\"1\" class=\"dataframe\">\n",
       "  <thead>\n",
       "    <tr style=\"text-align: right;\">\n",
       "      <th></th>\n",
       "      <th>Locality</th>\n",
       "      <th>Place</th>\n",
       "      <th>District</th>\n",
       "      <th>Latitude</th>\n",
       "      <th>Longitude</th>\n",
       "      <th>Cluster</th>\n",
       "    </tr>\n",
       "  </thead>\n",
       "  <tbody>\n",
       "    <tr>\n",
       "      <th>2</th>\n",
       "      <td>Singhpur</td>\n",
       "      <td>Singhpur</td>\n",
       "      <td>Hoshiarpur</td>\n",
       "      <td>31.424305</td>\n",
       "      <td>76.016335</td>\n",
       "      <td>1</td>\n",
       "    </tr>\n",
       "  </tbody>\n",
       "</table>\n",
       "</div>"
      ],
      "text/plain": [
       "   Locality     Place     District   Latitude  Longitude  Cluster\n",
       "2  Singhpur  Singhpur   Hoshiarpur  31.424305  76.016335        1"
      ]
     },
     "execution_count": 85,
     "metadata": {},
     "output_type": "execute_result"
    }
   ],
   "source": [
    "place_cord_clus1 =place_cord[ place_cord['Cluster']==1]\n",
    "place_cord_clus1"
   ]
  },
  {
   "cell_type": "code",
   "execution_count": 87,
   "id": "3af5dce3",
   "metadata": {},
   "outputs": [
    {
     "name": "stdout",
     "output_type": "stream",
     "text": [
      "The Center of Pincode is 31.466802125  76.019356625\n"
     ]
    },
    {
     "data": {
      "image/png": "[encoded data removed]",
      "text/plain": [
       "<Figure size 1800x900 with 1 Axes>"
      ]
     },
     "metadata": {},
     "output_type": "display_data"
    }
   ],
   "source": [
    "plt.figure(figsize=(18,9))\n",
    "ss.scatterplot(x='Latitude',y='Longitude',data=place_cord,color='red')\n",
    "ss.scatterplot(x='Latitude',y='Longitude',data=place_cord_clus,color='green')\n",
    "for i in range(len(place_cord['Locality'])):\n",
    "    p1= list(place_cord['Locality'])\n",
    "    p2= list(place_cord['Latitude'])\n",
    "    p3 =list(place_cord['Longitude'])\n",
    "    plt.annotate(p1[i],(p2[i]+0.0001,p3[i]+0.0005))\n",
    "    \n",
    "if(geodesic((c1[0],c1[1]),(c2[0],c2[1]))>50):\n",
    "    plt.annotate(\"Center\",(c1[0],c1[1]),arrowprops = dict(facecolor ='green',shrink = 1.5 ))\n",
    "    plt.annotate(\"Outliers\",(c2[0],c2[1]),arrowprops = dict(facecolor ='red',shrink = 0.05 ))\n",
    "    \n",
    "    plt.show()\n",
    "    print(\"The Center of Pincode is\",c1[0],\"\",c1[1])\n",
    "else:\n",
    "    cc1= (c1[0]+c2[0])/2\n",
    "    cc2= (c1[1]+c2[1])/2\n",
    "    plt.annotate(\"Center\",(cc1,cc2),arrowprops = dict(facecolor ='red',shrink = 0.05 ))\n",
    "    print(\"The Center of Pincode is\",cc1,\"\",cc2)\n",
    "    \n",
    "\n",
    "plt.show()\n"
   ]
  },
  {
   "cell_type": "code",
   "execution_count": null,
   "id": "7e1a4d0a",
   "metadata": {},
   "outputs": [],
   "source": []
  }
 ],
 "metadata": {
  "kernelspec": {
   "display_name": "Python 3 (ipykernel)",
   "language": "python",
   "name": "python3"
  },
  "language_info": {
   "codemirror_mode": {
    "name": "ipython",
    "version": 3
   },
   "file_extension": ".py",
   "mimetype": "text/x-python",
   "name": "python",
   "nbconvert_exporter": "python",
   "pygments_lexer": "ipython3",
   "version": "3.10.9"
  }
 },
 "nbformat": 4,
 "nbformat_minor": 5
}
