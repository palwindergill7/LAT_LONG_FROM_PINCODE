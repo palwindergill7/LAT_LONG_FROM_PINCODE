{
 "cells": [
  {
   "cell_type": "markdown",
   "id": "09491dcf",
   "metadata": {},
   "source": [
    "# Get Latitude and Longitude from Pincode"
   ]
  },
  {
   "cell_type": "code",
   "execution_count": 13,
   "id": "6402e533",
   "metadata": {},
   "outputs": [],
   "source": [
    "import requests\n",
    "import json\n",
    "import pandas as pd\n",
    "import numpy as np\n",
    "import geopy as gd\n",
    "from geopy.distance import geodesic\n",
    "PinData_file= pd.read_excel('Locality_Pincode.xlsx')"
   ]
  },
  {
   "cell_type": "markdown",
   "id": "b871bad8",
   "metadata": {},
   "source": [
    "### Enter the Pincode Here:"
   ]
  },
  {
   "cell_type": "code",
   "execution_count": 23,
   "id": "af61eedb",
   "metadata": {},
   "outputs": [
    {
     "name": "stdout",
     "output_type": "stream",
     "text": [
      " Enter the Pincodes here: 142047\n"
     ]
    }
   ],
   "source": [
    "#ENTER PINCODE between 140001 and 160104\n",
    "#Download full Dataset :- https://data.gov.in/catalog/locality-based-pincode\n",
    "pinlist= int(input(' Enter the Pincodes here: '))"
   ]
  },
  {
   "cell_type": "code",
   "execution_count": 24,
   "id": "986c89fd",
   "metadata": {},
   "outputs": [
    {
     "data": {
      "text/plain": [
       "FIROZPUR    48\n",
       "Name: Districtname, dtype: int64"
      ]
     },
     "execution_count": 24,
     "metadata": {},
     "output_type": "execute_result"
    }
   ],
   "source": [
    "PinData=PinData_file[ PinData_file['Pincode']==pinlist]\n",
    "PinData['Districtname'].value_counts()"
   ]
  },
  {
   "cell_type": "markdown",
   "id": "a223a143",
   "metadata": {},
   "source": [
    "### Get Latitude and Longitude from Localities"
   ]
  },
  {
   "cell_type": "code",
   "execution_count": 25,
   "id": "1e6e3299",
   "metadata": {},
   "outputs": [],
   "source": [
    "from geopy.geocoders import Nominatim\n",
    "geolocator = Nominatim(user_agent=\"MyApp\")\n",
    "place_li = []\n",
    "place_l = []\n",
    "district_l= []\n",
    "lat_l = []\n",
    "long_l= []\n",
    "place_list = list(PinData['Locality'])\n",
    "district_list= list(PinData['Districtname'])\n",
    "for i in range(0,len(place_list)):\n",
    "    url= place_list[i]+\" \"+district_list[i]\n",
    "    location = geolocator.geocode(url)\n",
    "    try:\n",
    "        \n",
    "        address = location[0].split(',')\n",
    "        place_li.append(place_list[i])\n",
    "        place_l.append(address[0])\n",
    "        district_l.append(address[2])\n",
    "        lat_l.append(location.latitude)\n",
    "        long_l.append(location.longitude)\n",
    "    except:\n",
    "        continue               "
   ]
  },
  {
   "cell_type": "markdown",
   "id": "7e325a38",
   "metadata": {},
   "source": [
    "### Create Dataframe to Store Latitude and Longitude"
   ]
  },
  {
   "cell_type": "code",
   "execution_count": 26,
   "id": "84fb6f31",
   "metadata": {},
   "outputs": [],
   "source": [
    "place_cord= pd.DataFrame()\n",
    "place_cord['Locality']=place_li\n",
    "place_cord['Place']=place_l\n",
    "place_cord['District']=district_l\n",
    "place_cord['Latitude']=lat_l\n",
    "place_cord['Longitude']=long_l"
   ]
  },
  {
   "cell_type": "markdown",
   "id": "d6b96913",
   "metadata": {},
   "source": [
    "# Create Clusters to identify outliers"
   ]
  },
  {
   "cell_type": "code",
   "execution_count": 27,
   "id": "7073af44",
   "metadata": {},
   "outputs": [
    {
     "name": "stderr",
     "output_type": "stream",
     "text": [
      "C:\\anaconda\\lib\\site-packages\\sklearn\\cluster\\_kmeans.py:1382: UserWarning: KMeans is known to have a memory leak on Windows with MKL, when there are less chunks than available threads. You can avoid it by setting the environment variable OMP_NUM_THREADS=1.\n",
      "  warnings.warn(\n"
     ]
    },
    {
     "data": {
      "text/plain": [
       "array([0, 0, 0, 0, 0, 0, 0, 0, 0, 1, 0, 0, 0, 0, 0, 0, 1, 0, 0, 0, 0, 1,\n",
       "       1, 0, 0])"
      ]
     },
     "execution_count": 27,
     "metadata": {},
     "output_type": "execute_result"
    }
   ],
   "source": [
    "import seaborn as ss\n",
    "import matplotlib.pyplot as plt\n",
    "import numpy as nn\n",
    "from sklearn.cluster import KMeans\n",
    "x= place_cord.iloc[:,[3,4]].values\n",
    "kmeans = KMeans(n_clusters = 2, init = 'k-means++',max_iter = 300, n_init = 2, random_state = 0)\n",
    "y_kmeans = kmeans.fit_predict(x)\n",
    "y_kmeans"
   ]
  },
  {
   "cell_type": "code",
   "execution_count": 28,
   "id": "501974f6",
   "metadata": {},
   "outputs": [],
   "source": [
    "c1=kmeans.cluster_centers_[0]\n",
    "c2=kmeans.cluster_centers_[1]"
   ]
  },
  {
   "cell_type": "code",
   "execution_count": 29,
   "id": "442d65d5",
   "metadata": {},
   "outputs": [
    {
     "data": {
      "text/html": [
       "<div>\n",
       "<style scoped>\n",
       "    .dataframe tbody tr th:only-of-type {\n",
       "        vertical-align: middle;\n",
       "    }\n",
       "\n",
       "    .dataframe tbody tr th {\n",
       "        vertical-align: top;\n",
       "    }\n",
       "\n",
       "    .dataframe thead th {\n",
       "        text-align: right;\n",
       "    }\n",
       "</style>\n",
       "<table border=\"1\" class=\"dataframe\">\n",
       "  <thead>\n",
       "    <tr style=\"text-align: right;\">\n",
       "      <th></th>\n",
       "      <th>Locality</th>\n",
       "      <th>Place</th>\n",
       "      <th>District</th>\n",
       "      <th>Latitude</th>\n",
       "      <th>Longitude</th>\n",
       "      <th>Cluster</th>\n",
       "    </tr>\n",
       "  </thead>\n",
       "  <tbody>\n",
       "    <tr>\n",
       "      <th>0</th>\n",
       "      <td>Alipur</td>\n",
       "      <td>Alipur</td>\n",
       "      <td>Firozpur</td>\n",
       "      <td>31.008915</td>\n",
       "      <td>74.899319</td>\n",
       "      <td>0</td>\n",
       "    </tr>\n",
       "    <tr>\n",
       "      <th>1</th>\n",
       "      <td>Dhandian</td>\n",
       "      <td>Dhandian</td>\n",
       "      <td>Firozpur</td>\n",
       "      <td>31.023827</td>\n",
       "      <td>74.951697</td>\n",
       "      <td>0</td>\n",
       "    </tr>\n",
       "    <tr>\n",
       "      <th>2</th>\n",
       "      <td>Lohke Kalan</td>\n",
       "      <td>Lohke Kalan</td>\n",
       "      <td>Firozpur</td>\n",
       "      <td>31.050935</td>\n",
       "      <td>74.924676</td>\n",
       "      <td>0</td>\n",
       "    </tr>\n",
       "    <tr>\n",
       "      <th>3</th>\n",
       "      <td>Marur</td>\n",
       "      <td>Marur</td>\n",
       "      <td>Firozpur</td>\n",
       "      <td>30.963306</td>\n",
       "      <td>74.864273</td>\n",
       "      <td>0</td>\n",
       "    </tr>\n",
       "    <tr>\n",
       "      <th>4</th>\n",
       "      <td>Santuwala</td>\n",
       "      <td>Santu Wala</td>\n",
       "      <td>Firozpur</td>\n",
       "      <td>31.004901</td>\n",
       "      <td>74.940745</td>\n",
       "      <td>0</td>\n",
       "    </tr>\n",
       "    <tr>\n",
       "      <th>5</th>\n",
       "      <td>Valtoha</td>\n",
       "      <td>Waltoha</td>\n",
       "      <td>Firozpur</td>\n",
       "      <td>31.010550</td>\n",
       "      <td>74.884223</td>\n",
       "      <td>0</td>\n",
       "    </tr>\n",
       "    <tr>\n",
       "      <th>6</th>\n",
       "      <td>Chuchak Wind</td>\n",
       "      <td>CHUCHAK WIND</td>\n",
       "      <td>Firozpur</td>\n",
       "      <td>30.977339</td>\n",
       "      <td>74.869664</td>\n",
       "      <td>0</td>\n",
       "    </tr>\n",
       "    <tr>\n",
       "      <th>7</th>\n",
       "      <td>Bahawalpur</td>\n",
       "      <td>Bahawalpur</td>\n",
       "      <td>Firozpur</td>\n",
       "      <td>31.029535</td>\n",
       "      <td>75.009193</td>\n",
       "      <td>0</td>\n",
       "    </tr>\n",
       "    <tr>\n",
       "      <th>8</th>\n",
       "      <td>Basti Bute Wali</td>\n",
       "      <td>Basti Bute Wali</td>\n",
       "      <td>Zira Tahsil</td>\n",
       "      <td>31.021988</td>\n",
       "      <td>74.983966</td>\n",
       "      <td>0</td>\n",
       "    </tr>\n",
       "    <tr>\n",
       "      <th>10</th>\n",
       "      <td>Zira Nau</td>\n",
       "      <td>Zira Nau</td>\n",
       "      <td>Firozpur</td>\n",
       "      <td>30.994520</td>\n",
       "      <td>74.974461</td>\n",
       "      <td>0</td>\n",
       "    </tr>\n",
       "    <tr>\n",
       "      <th>11</th>\n",
       "      <td>Basti Haripur</td>\n",
       "      <td>Haripur</td>\n",
       "      <td>Zira Tahsil</td>\n",
       "      <td>31.048580</td>\n",
       "      <td>74.914567</td>\n",
       "      <td>0</td>\n",
       "    </tr>\n",
       "    <tr>\n",
       "      <th>12</th>\n",
       "      <td>Gadriwala</td>\n",
       "      <td>Gadriwala</td>\n",
       "      <td>Firozpur</td>\n",
       "      <td>30.967288</td>\n",
       "      <td>74.966004</td>\n",
       "      <td>0</td>\n",
       "    </tr>\n",
       "    <tr>\n",
       "      <th>13</th>\n",
       "      <td>Kachar Bhan</td>\n",
       "      <td>Kachar Bhan</td>\n",
       "      <td>Firozpur</td>\n",
       "      <td>30.994074</td>\n",
       "      <td>74.921589</td>\n",
       "      <td>0</td>\n",
       "    </tr>\n",
       "    <tr>\n",
       "      <th>14</th>\n",
       "      <td>Lohke Khurd</td>\n",
       "      <td>Lohke Khurd</td>\n",
       "      <td>Firozpur</td>\n",
       "      <td>31.019428</td>\n",
       "      <td>74.888713</td>\n",
       "      <td>0</td>\n",
       "    </tr>\n",
       "    <tr>\n",
       "      <th>15</th>\n",
       "      <td>Tindwan</td>\n",
       "      <td>Tindwan</td>\n",
       "      <td>Firozpur</td>\n",
       "      <td>31.021354</td>\n",
       "      <td>75.000361</td>\n",
       "      <td>0</td>\n",
       "    </tr>\n",
       "    <tr>\n",
       "      <th>17</th>\n",
       "      <td>Chabba</td>\n",
       "      <td>Chabba</td>\n",
       "      <td>Firozpur</td>\n",
       "      <td>31.031781</td>\n",
       "      <td>74.933522</td>\n",
       "      <td>0</td>\n",
       "    </tr>\n",
       "    <tr>\n",
       "      <th>18</th>\n",
       "      <td>Thatha</td>\n",
       "      <td>Thatha</td>\n",
       "      <td>Firozpur</td>\n",
       "      <td>31.032590</td>\n",
       "      <td>74.913872</td>\n",
       "      <td>0</td>\n",
       "    </tr>\n",
       "    <tr>\n",
       "      <th>19</th>\n",
       "      <td>Zira</td>\n",
       "      <td>Zira</td>\n",
       "      <td>Firozpur</td>\n",
       "      <td>30.971299</td>\n",
       "      <td>74.988180</td>\n",
       "      <td>0</td>\n",
       "    </tr>\n",
       "    <tr>\n",
       "      <th>20</th>\n",
       "      <td>Lehra Rohi</td>\n",
       "      <td>Lehra Rohi</td>\n",
       "      <td>Firozpur</td>\n",
       "      <td>30.948617</td>\n",
       "      <td>74.964898</td>\n",
       "      <td>0</td>\n",
       "    </tr>\n",
       "    <tr>\n",
       "      <th>23</th>\n",
       "      <td>Shahwala</td>\n",
       "      <td>Sharaf Ali Shahwala</td>\n",
       "      <td>Firozpur</td>\n",
       "      <td>31.081062</td>\n",
       "      <td>75.104350</td>\n",
       "      <td>0</td>\n",
       "    </tr>\n",
       "    <tr>\n",
       "      <th>24</th>\n",
       "      <td>Warnala</td>\n",
       "      <td>Varnala</td>\n",
       "      <td>Firozpur</td>\n",
       "      <td>30.950736</td>\n",
       "      <td>74.927597</td>\n",
       "      <td>0</td>\n",
       "    </tr>\n",
       "  </tbody>\n",
       "</table>\n",
       "</div>"
      ],
      "text/plain": [
       "           Locality                Place      District   Latitude  Longitude  \\\n",
       "0            Alipur               Alipur      Firozpur  31.008915  74.899319   \n",
       "1          Dhandian             Dhandian      Firozpur  31.023827  74.951697   \n",
       "2       Lohke Kalan          Lohke Kalan      Firozpur  31.050935  74.924676   \n",
       "3             Marur                Marur      Firozpur  30.963306  74.864273   \n",
       "4         Santuwala           Santu Wala      Firozpur  31.004901  74.940745   \n",
       "5           Valtoha              Waltoha      Firozpur  31.010550  74.884223   \n",
       "6      Chuchak Wind         CHUCHAK WIND      Firozpur  30.977339  74.869664   \n",
       "7        Bahawalpur           Bahawalpur      Firozpur  31.029535  75.009193   \n",
       "8   Basti Bute Wali      Basti Bute Wali   Zira Tahsil  31.021988  74.983966   \n",
       "10         Zira Nau             Zira Nau      Firozpur  30.994520  74.974461   \n",
       "11    Basti Haripur              Haripur   Zira Tahsil  31.048580  74.914567   \n",
       "12        Gadriwala            Gadriwala      Firozpur  30.967288  74.966004   \n",
       "13      Kachar Bhan          Kachar Bhan      Firozpur  30.994074  74.921589   \n",
       "14      Lohke Khurd          Lohke Khurd      Firozpur  31.019428  74.888713   \n",
       "15          Tindwan              Tindwan      Firozpur  31.021354  75.000361   \n",
       "17           Chabba               Chabba      Firozpur  31.031781  74.933522   \n",
       "18           Thatha               Thatha      Firozpur  31.032590  74.913872   \n",
       "19             Zira                 Zira      Firozpur  30.971299  74.988180   \n",
       "20       Lehra Rohi           Lehra Rohi      Firozpur  30.948617  74.964898   \n",
       "23         Shahwala  Sharaf Ali Shahwala      Firozpur  31.081062  75.104350   \n",
       "24          Warnala              Varnala      Firozpur  30.950736  74.927597   \n",
       "\n",
       "    Cluster  \n",
       "0         0  \n",
       "1         0  \n",
       "2         0  \n",
       "3         0  \n",
       "4         0  \n",
       "5         0  \n",
       "6         0  \n",
       "7         0  \n",
       "8         0  \n",
       "10        0  \n",
       "11        0  \n",
       "12        0  \n",
       "13        0  \n",
       "14        0  \n",
       "15        0  \n",
       "17        0  \n",
       "18        0  \n",
       "19        0  \n",
       "20        0  \n",
       "23        0  \n",
       "24        0  "
      ]
     },
     "execution_count": 29,
     "metadata": {},
     "output_type": "execute_result"
    }
   ],
   "source": [
    "place_cord['Cluster']=y_kmeans\n",
    "place_cord_clus =place_cord[ place_cord['Cluster']==0]\n",
    "place_cord_clus"
   ]
  },
  {
   "cell_type": "code",
   "execution_count": 30,
   "id": "fe267f5d",
   "metadata": {},
   "outputs": [
    {
     "data": {
      "text/html": [
       "<div>\n",
       "<style scoped>\n",
       "    .dataframe tbody tr th:only-of-type {\n",
       "        vertical-align: middle;\n",
       "    }\n",
       "\n",
       "    .dataframe tbody tr th {\n",
       "        vertical-align: top;\n",
       "    }\n",
       "\n",
       "    .dataframe thead th {\n",
       "        text-align: right;\n",
       "    }\n",
       "</style>\n",
       "<table border=\"1\" class=\"dataframe\">\n",
       "  <thead>\n",
       "    <tr style=\"text-align: right;\">\n",
       "      <th></th>\n",
       "      <th>Locality</th>\n",
       "      <th>Place</th>\n",
       "      <th>District</th>\n",
       "      <th>Latitude</th>\n",
       "      <th>Longitude</th>\n",
       "      <th>Cluster</th>\n",
       "    </tr>\n",
       "  </thead>\n",
       "  <tbody>\n",
       "    <tr>\n",
       "      <th>9</th>\n",
       "      <td>Machhiwara</td>\n",
       "      <td>Machhiwara</td>\n",
       "      <td>Firozpur</td>\n",
       "      <td>30.824200</td>\n",
       "      <td>74.520235</td>\n",
       "      <td>1</td>\n",
       "    </tr>\n",
       "    <tr>\n",
       "      <th>16</th>\n",
       "      <td>Basti Punjab singh wali</td>\n",
       "      <td>Dhir Hospital</td>\n",
       "      <td>ODR20</td>\n",
       "      <td>30.962612</td>\n",
       "      <td>74.616913</td>\n",
       "      <td>1</td>\n",
       "    </tr>\n",
       "    <tr>\n",
       "      <th>21</th>\n",
       "      <td>Malsian</td>\n",
       "      <td>Malsian</td>\n",
       "      <td>Firozpur</td>\n",
       "      <td>30.807162</td>\n",
       "      <td>74.402225</td>\n",
       "      <td>1</td>\n",
       "    </tr>\n",
       "    <tr>\n",
       "      <th>22</th>\n",
       "      <td>Nurpur</td>\n",
       "      <td>Nurpur</td>\n",
       "      <td>Firozpur</td>\n",
       "      <td>30.875045</td>\n",
       "      <td>74.637422</td>\n",
       "      <td>1</td>\n",
       "    </tr>\n",
       "  </tbody>\n",
       "</table>\n",
       "</div>"
      ],
      "text/plain": [
       "                   Locality          Place   District   Latitude  Longitude  \\\n",
       "9                Machhiwara     Machhiwara   Firozpur  30.824200  74.520235   \n",
       "16  Basti Punjab singh wali  Dhir Hospital      ODR20  30.962612  74.616913   \n",
       "21                  Malsian        Malsian   Firozpur  30.807162  74.402225   \n",
       "22                   Nurpur         Nurpur   Firozpur  30.875045  74.637422   \n",
       "\n",
       "    Cluster  \n",
       "9         1  \n",
       "16        1  \n",
       "21        1  \n",
       "22        1  "
      ]
     },
     "execution_count": 30,
     "metadata": {},
     "output_type": "execute_result"
    }
   ],
   "source": [
    "place_cord_clus1 =place_cord[ place_cord['Cluster']==1]\n",
    "place_cord_clus1"
   ]
  },
  {
   "cell_type": "markdown",
   "id": "9bc85a4c",
   "metadata": {},
   "source": [
    "### Draw Scatter Plot for places"
   ]
  },
  {
   "cell_type": "code",
   "execution_count": 31,
   "id": "3af5dce3",
   "metadata": {},
   "outputs": [
    {
     "name": "stdout",
     "output_type": "stream",
     "text": [
      "The Center of Pincode is 30.937261414285715  74.74414391143284\n"
     ]
    },
    {
     "data": {
      "image/png": "[encoded data removed]",
      "text/plain": [
       "<Figure size 1800x900 with 1 Axes>"
      ]
     },
     "metadata": {},
     "output_type": "display_data"
    }
   ],
   "source": [
    "plt.figure(figsize=(18,9))\n",
    "ss.scatterplot(x='Latitude',y='Longitude',data=place_cord,color='red')\n",
    "ss.scatterplot(x='Latitude',y='Longitude',data=place_cord_clus,color='green')\n",
    "for i in range(len(place_cord['Locality'])):\n",
    "    p1= list(place_cord['Locality'])\n",
    "    p2= list(place_cord['Latitude'])\n",
    "    p3 =list(place_cord['Longitude'])\n",
    "    plt.annotate(p1[i],(p2[i]+0.0001,p3[i]+0.0005))\n",
    "    \n",
    "if(geodesic((c1[0],c1[1]),(c2[0],c2[1]))>50):\n",
    "    plt.annotate(\"Center\",(c1[0],c1[1]),arrowprops = dict(facecolor ='green',shrink = 1.5 ))\n",
    "    plt.annotate(\"Outliers\",(c2[0],c2[1]),arrowprops = dict(facecolor ='red',shrink = 0.05 ))\n",
    "    \n",
    "    plt.show()\n",
    "    print(\"The Center of Pincode is\",c1[0],\"\",c1[1])\n",
    "else:\n",
    "    cc1= (c1[0]+c2[0])/2\n",
    "    cc2= (c1[1]+c2[1])/2\n",
    "    plt.annotate(\"Center\",(cc1,cc2),arrowprops = dict(facecolor ='red',shrink = 0.05 ))\n",
    "    print(\"The Center of Pincode is\",cc1,\"\",cc2)\n",
    "    \n",
    "\n",
    "plt.show()\n"
   ]
  }
 ],
 "metadata": {
  "kernelspec": {
   "display_name": "Python 3 (ipykernel)",
   "language": "python",
   "name": "python3"
  },
  "language_info": {
   "codemirror_mode": {
    "name": "ipython",
    "version": 3
   },
   "file_extension": ".py",
   "mimetype": "text/x-python",
   "name": "python",
   "nbconvert_exporter": "python",
   "pygments_lexer": "ipython3",
   "version": "3.10.9"
  }
 },
 "nbformat": 4,
 "nbformat_minor": 5
}
